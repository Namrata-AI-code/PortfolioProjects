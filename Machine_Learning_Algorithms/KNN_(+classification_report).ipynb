{
  "nbformat": 4,
  "nbformat_minor": 0,
  "metadata": {
    "colab": {
      "provenance": []
    },
    "kernelspec": {
      "name": "python3",
      "display_name": "Python 3"
    },
    "language_info": {
      "name": "python"
    }
  },
  "cells": [
    {
      "cell_type": "code",
      "execution_count": null,
      "metadata": {
        "id": "8KTsddE_Ux6L"
      },
      "outputs": [],
      "source": [
        "from sklearn.datasets import load_digits\n",
        "import pandas as pd\n",
        "from sklearn.neighbors import KNeighborsClassifier"
      ]
    },
    {
      "cell_type": "code",
      "source": [
        "digits = load_digits()\n",
        "X = digits.data\n",
        "y = digits.target"
      ],
      "metadata": {
        "id": "QrfFkt7OVhBf"
      },
      "execution_count": null,
      "outputs": []
    },
    {
      "cell_type": "code",
      "source": [
        "from sklearn.model_selection import train_test_split\n",
        "X_train, X_test, y_train, y_test = train_test_split(X,y, test_size=0.2)"
      ],
      "metadata": {
        "id": "ij5Rb5sAWKHB"
      },
      "execution_count": null,
      "outputs": []
    },
    {
      "cell_type": "code",
      "source": [
        "# finding the best value for k using gridsearchCV\n",
        "from sklearn.model_selection import GridSearchCV\n",
        "clf = GridSearchCV(KNeighborsClassifier(),{'n_neighbors':[1,3,20,100]},cv=5,return_train_score=False)\n",
        "clf.fit(X_train,y_train)\n",
        "clf.cv_results_"
      ],
      "metadata": {
        "colab": {
          "base_uri": "https://localhost:8080/"
        },
        "id": "EmeWP7uxaU-w",
        "outputId": "a88e1336-0695-40d9-b14c-613e200be585"
      },
      "execution_count": null,
      "outputs": [
        {
          "output_type": "execute_result",
          "data": {
            "text/plain": [
              "{'mean_fit_time': array([0.00074878, 0.00063396, 0.00087161, 0.00056829]),\n",
              " 'std_fit_time': array([2.80278846e-04, 1.07305631e-04, 2.49593322e-04, 1.84330715e-05]),\n",
              " 'mean_score_time': array([0.00296531, 0.00348544, 0.00492573, 0.00935779]),\n",
              " 'std_score_time': array([0.00033253, 0.00135591, 0.00080658, 0.00011697]),\n",
              " 'param_n_neighbors': masked_array(data=[1, 3, 20, 100],\n",
              "              mask=[False, False, False, False],\n",
              "        fill_value=999999),\n",
              " 'params': [{'n_neighbors': 1},\n",
              "  {'n_neighbors': 3},\n",
              "  {'n_neighbors': 20},\n",
              "  {'n_neighbors': 100}],\n",
              " 'split0_test_score': array([0.98611111, 0.98958333, 0.96875   , 0.93055556]),\n",
              " 'split1_test_score': array([0.98958333, 0.98611111, 0.97222222, 0.87847222]),\n",
              " 'split2_test_score': array([0.99303136, 0.97909408, 0.95818815, 0.91637631]),\n",
              " 'split3_test_score': array([0.99303136, 0.98954704, 0.96515679, 0.92334495]),\n",
              " 'split4_test_score': array([0.97909408, 0.97909408, 0.95818815, 0.89198606]),\n",
              " 'mean_test_score': array([0.98817025, 0.98468593, 0.96450106, 0.90814702]),\n",
              " 'std_test_score': array([0.00521296, 0.00473674, 0.00561793, 0.01971097]),\n",
              " 'rank_test_score': array([1, 2, 3, 4], dtype=int32)}"
            ]
          },
          "metadata": {},
          "execution_count": 27
        }
      ]
    },
    {
      "cell_type": "code",
      "source": [
        "knn = KNeighborsClassifier(n_neighbors=1)\n",
        "knn.fit(X_train,y_train)\n",
        "knn.score(X_test,y_test)"
      ],
      "metadata": {
        "colab": {
          "base_uri": "https://localhost:8080/"
        },
        "id": "zHOp-MkMcZ8N",
        "outputId": "632ee58e-aad6-44d7-f7bf-c5362526f2b4"
      },
      "execution_count": null,
      "outputs": [
        {
          "output_type": "execute_result",
          "data": {
            "text/plain": [
              "0.9888888888888889"
            ]
          },
          "metadata": {},
          "execution_count": 28
        }
      ]
    },
    {
      "cell_type": "code",
      "source": [
        "from sklearn.metrics import confusion_matrix\n",
        "y_pred = knn.predict(X_test)\n",
        "cm = confusion_matrix(y_test,y_pred)\n",
        "cm"
      ],
      "metadata": {
        "colab": {
          "base_uri": "https://localhost:8080/"
        },
        "id": "G0ffu60AXveg",
        "outputId": "6d15df80-6072-4720-aef6-b6cdedcc910a"
      },
      "execution_count": null,
      "outputs": [
        {
          "output_type": "execute_result",
          "data": {
            "text/plain": [
              "array([[30,  0,  0,  0,  0,  0,  0,  0,  0,  0],\n",
              "       [ 0, 37,  0,  0,  0,  0,  0,  0,  0,  0],\n",
              "       [ 0,  0, 49,  0,  0,  0,  0,  0,  0,  0],\n",
              "       [ 0,  0,  0, 38,  0,  0,  0,  1,  0,  0],\n",
              "       [ 0,  0,  0,  0, 33,  0,  0,  0,  0,  0],\n",
              "       [ 0,  0,  0,  0,  0, 34,  0,  0,  0,  1],\n",
              "       [ 0,  0,  0,  0,  0,  0, 37,  0,  0,  0],\n",
              "       [ 0,  0,  0,  0,  0,  0,  0, 38,  0,  0],\n",
              "       [ 0,  0,  0,  0,  0,  0,  0,  0, 36,  0],\n",
              "       [ 0,  1,  0,  1,  0,  0,  0,  0,  0, 24]])"
            ]
          },
          "metadata": {},
          "execution_count": 29
        }
      ]
    },
    {
      "cell_type": "code",
      "source": [
        "import matplotlib.pyplot as plt\n",
        "import seaborn as sn\n",
        "\n",
        "plt.figure(figsize=(10,7))\n",
        "sn.heatmap(cm,annot=True)\n",
        "plt.xlabel('y_pred')\n",
        "plt.ylabel('y_test')"
      ],
      "metadata": {
        "colab": {
          "base_uri": "https://localhost:8080/",
          "height": 636
        },
        "id": "4rjMzz4TYVUD",
        "outputId": "6b6a5f6d-167b-406b-e03f-c0ffd840deff"
      },
      "execution_count": null,
      "outputs": [
        {
          "output_type": "execute_result",
          "data": {
            "text/plain": [
              "Text(95.72222222222221, 0.5, 'y_test')"
            ]
          },
          "metadata": {},
          "execution_count": 30
        },
        {
          "output_type": "display_data",
          "data": {
            "text/plain": [
              "<Figure size 1000x700 with 2 Axes>"
            ],
            "image/png": "[encoded data removed]"
          },
          "metadata": {}
        }
      ]
    },
    {
      "cell_type": "code",
      "source": [
        "from sklearn.metrics import classification_report\n",
        "print(classification_report(y_test,y_pred))"
      ],
      "metadata": {
        "colab": {
          "base_uri": "https://localhost:8080/"
        },
        "id": "Z7oPQGZVZeYd",
        "outputId": "b368bfdc-0de6-42c0-ab16-992780f6465a"
      },
      "execution_count": null,
      "outputs": [
        {
          "output_type": "stream",
          "name": "stdout",
          "text": [
            "              precision    recall  f1-score   support\n",
            "\n",
            "           0       1.00      1.00      1.00        30\n",
            "           1       0.97      1.00      0.99        37\n",
            "           2       1.00      1.00      1.00        49\n",
            "           3       0.97      0.97      0.97        39\n",
            "           4       1.00      1.00      1.00        33\n",
            "           5       1.00      0.97      0.99        35\n",
            "           6       1.00      1.00      1.00        37\n",
            "           7       0.97      1.00      0.99        38\n",
            "           8       1.00      1.00      1.00        36\n",
            "           9       0.96      0.92      0.94        26\n",
            "\n",
            "    accuracy                           0.99       360\n",
            "   macro avg       0.99      0.99      0.99       360\n",
            "weighted avg       0.99      0.99      0.99       360\n",
            "\n"
          ]
        }
      ]
    }
  ]
}