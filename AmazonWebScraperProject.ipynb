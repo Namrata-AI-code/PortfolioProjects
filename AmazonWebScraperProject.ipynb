{
 "cells": [
  {
   "cell_type": "code",
   "execution_count": 1,
   "id": "4b1268f9",
   "metadata": {},
   "outputs": [],
   "source": [
    "#importing libraries\n",
    "from bs4 import BeautifulSoup\n",
    "import datetime\n",
    "import smtplib\n",
    "import time\n",
    "import requests"
   ]
  },
  {
   "cell_type": "code",
   "execution_count": 28,
   "id": "89fda563",
   "metadata": {},
   "outputs": [
    {
     "name": "stdout",
     "output_type": "stream",
     "text": [
      "\n",
      "                    Alex Evenings Women's Long Fit and Flare Dress Godet Detail (Petite and Regular)\n",
      "                   \n",
      "\n",
      "\n",
      "\n",
      "\n",
      "                       3.8\n",
      "                      \n",
      "\n",
      "\n",
      "                        3.8 out of 5 stars\n",
      "                       \n",
      "\n",
      "\n",
      "\n",
      "\n",
      "\n",
      "\n",
      "\n",
      "\n"
     ]
    }
   ],
   "source": [
    "#Connecting to website\n",
    "URL='https://www.amazon.com/Alex-Evenings-Womens-Detail-Regular/dp/B07NW5BCQ5/ref=sr_1_56?crid=3GONOYJI4CW50&dib=eyJ2IjoiMSJ9.jH8KgjRjBG0FJ5cMYZ46jU4M-3XxMOyGUkPEGbOUG6Jy9diqyqF-Fb5ODSFPIDxTKJlyHSmR8Gx52e2XqR4W7dDwqeO3dXzpJYz9zX89ErVgLhK-7oTc-sm4Dn7A76LtpRKgimri5CXLYslKsQg5AUugczPtute2Ryl2v29OQabXmVhhgpLkAy9rD-7H-0YZhZ_ZI6_P4dF240Nrk2GVWXuMHe5bH9VTyXE5uFZdMM55WZBMkN0iKNVnK5Q1WJ_ArgPkybd6XFB6pAhtWQ_acZnudRcHpoWqpBcjP5l-Ujg.ud9CI554SMvIuWpgd0OEDMYy9nQD7gdAbNhBeapwgYo&dib_tag=se&keywords=dress+%2Bgown%2Bparty+wear&qid=1719572839&sprefix=dress+%2Bgown%2Bparty+wear%2Caps%2C271&sr=8-56'\n",
    "headers = {\"User-Agent\": \"Mozilla/5.0 (Windows NT 10.0; Win64; x64) AppleWebKit/537.36 (KHTML, like Gecko) Chrome/126.0.0.0 Safari/537.36\",\"Accept-Encoding\": \"gzip, deflate, br, zstd\", \"Accept\": \"text/html,application/xhtml+xml,application/xml;q=0.9,image/avif,image/webp,image/apng,*/*;q=0.8,application/signed-exchange;v=b3;q=0.7\",\"Connection\":\"close\",\"Upgrade-Insecure-Requests\": \"1\"}\n",
    "page = requests.get(URL,headers=headers)\n",
    "soup1 = BeautifulSoup(page.content, \"html.parser\")\n",
    "soup2 = BeautifulSoup(soup1.prettify(),\"html.parser\")\n",
    "\n",
    "title = soup2.find(id='productTitle').get_text()\n",
    "rating = soup2.find(id='acrPopover').get_text()\n",
    "print(title)\n",
    "print(rating)"
   ]
  },
  {
   "cell_type": "code",
   "execution_count": 14,
   "id": "f3571395",
   "metadata": {},
   "outputs": [
    {
     "name": "stdout",
     "output_type": "stream",
     "text": [
      "Alex Evenings Women's Long Fit and Flare Dress Godet Detail (Petite and Regular)\n",
      "3.8\n"
     ]
    }
   ],
   "source": [
    "#Getting the data in a desired format\n",
    "rating = rating.strip()[:3] \n",
    "title = title.strip()\n",
    "\n",
    "print(title)\n",
    "print(rating)"
   ]
  },
  {
   "cell_type": "code",
   "execution_count": 17,
   "id": "8294b11a",
   "metadata": {},
   "outputs": [
    {
     "name": "stdout",
     "output_type": "stream",
     "text": [
      "2024-06-28\n"
     ]
    }
   ],
   "source": [
    "today = datetime.date.today()\n",
    "print(today)"
   ]
  },
  {
   "cell_type": "code",
   "execution_count": 19,
   "id": "60666e1c",
   "metadata": {},
   "outputs": [],
   "source": [
    "import csv\n",
    "header = ['Title','Ratings','Date']\n",
    "data = [title, rating, today]\n",
    "\n",
    "with open('AmazonWebScraper.csv','w',newline='',encoding='UTF8') as f:\n",
    "    writer = csv.writer(f)\n",
    "    writer.writerow(header)\n",
    "    writer.writerow(data)"
   ]
  },
  {
   "cell_type": "code",
   "execution_count": 22,
   "id": "d33b285e",
   "metadata": {},
   "outputs": [
    {
     "data": {
      "text/html": [
       "<div>\n",
       "<style scoped>\n",
       "    .dataframe tbody tr th:only-of-type {\n",
       "        vertical-align: middle;\n",
       "    }\n",
       "\n",
       "    .dataframe tbody tr th {\n",
       "        vertical-align: top;\n",
       "    }\n",
       "\n",
       "    .dataframe thead th {\n",
       "        text-align: right;\n",
       "    }\n",
       "</style>\n",
       "<table border=\"1\" class=\"dataframe\">\n",
       "  <thead>\n",
       "    <tr style=\"text-align: right;\">\n",
       "      <th></th>\n",
       "      <th>Title</th>\n",
       "      <th>Ratings</th>\n",
       "      <th>Date</th>\n",
       "    </tr>\n",
       "  </thead>\n",
       "  <tbody>\n",
       "    <tr>\n",
       "      <th>0</th>\n",
       "      <td>Alex Evenings Women's Long Fit and Flare Dress...</td>\n",
       "      <td>3.8</td>\n",
       "      <td>2024-06-28</td>\n",
       "    </tr>\n",
       "  </tbody>\n",
       "</table>\n",
       "</div>"
      ],
      "text/plain": [
       "                                               Title  Ratings        Date\n",
       "0  Alex Evenings Women's Long Fit and Flare Dress...      3.8  2024-06-28"
      ]
     },
     "execution_count": 22,
     "metadata": {},
     "output_type": "execute_result"
    }
   ],
   "source": [
    "import pandas as pd\n",
    "df = pd.read_csv(r'C:\\Users\\Sougu\\AmazonWebScraper.csv')\n",
    "df"
   ]
  },
  {
   "cell_type": "code",
   "execution_count": 23,
   "id": "54f8fd5a",
   "metadata": {},
   "outputs": [],
   "source": [
    "#Appending data to csv file\n",
    "with open('AmazonWebScraper.csv','+a',newline='',encoding='UTF8') as f:\n",
    "    writer = csv.writer(f)\n",
    "    writer.writerow(data)"
   ]
  },
  {
   "cell_type": "code",
   "execution_count": 24,
   "id": "302b3bf9",
   "metadata": {},
   "outputs": [],
   "source": [
    "def check_rating():\n",
    "    URL='https://www.amazon.com/Alex-Evenings-Womens-Detail-Regular/dp/B07NW5BCQ5/ref=sr_1_56?crid=3GONOYJI4CW50&dib=eyJ2IjoiMSJ9.jH8KgjRjBG0FJ5cMYZ46jU4M-3XxMOyGUkPEGbOUG6Jy9diqyqF-Fb5ODSFPIDxTKJlyHSmR8Gx52e2XqR4W7dDwqeO3dXzpJYz9zX89ErVgLhK-7oTc-sm4Dn7A76LtpRKgimri5CXLYslKsQg5AUugczPtute2Ryl2v29OQabXmVhhgpLkAy9rD-7H-0YZhZ_ZI6_P4dF240Nrk2GVWXuMHe5bH9VTyXE5uFZdMM55WZBMkN0iKNVnK5Q1WJ_ArgPkybd6XFB6pAhtWQ_acZnudRcHpoWqpBcjP5l-Ujg.ud9CI554SMvIuWpgd0OEDMYy9nQD7gdAbNhBeapwgYo&dib_tag=se&keywords=dress+%2Bgown%2Bparty+wear&qid=1719572839&sprefix=dress+%2Bgown%2Bparty+wear%2Caps%2C271&sr=8-56'\n",
    "    headers = {\"User-Agent\": \"Mozilla/5.0 (Windows NT 10.0; Win64; x64) AppleWebKit/537.36 (KHTML, like Gecko) Chrome/126.0.0.0 Safari/537.36\",\"Accept-Encoding\": \"gzip, deflate, br, zstd\", \"Accept\": \"text/html,application/xhtml+xml,application/xml;q=0.9,image/avif,image/webp,image/apng,*/*;q=0.8,application/signed-exchange;v=b3;q=0.7\",\"Connection\":\"close\",\"Upgrade-Insecure-Requests\": \"1\"}\n",
    "    page = requests.get(URL,headers=headers)\n",
    "    soup1 = BeautifulSoup(page.content, \"html.parser\")\n",
    "    soup2 = BeautifulSoup(soup1.prettify(),\"html.parser\")\n",
    "\n",
    "    title = soup2.find(id='productTitle').get_text()\n",
    "    rating = soup2.find(id='acrPopover').get_text()\n",
    "    rating = rating.strip()[:3] \n",
    "    title = title.strip()\n",
    "    today = datetime.date.today()\n",
    "    import csv\n",
    "    header = ['Title','Ratings','Date']\n",
    "    data = [title, rating, today]\n",
    "    with open('AmazonWebScraper.csv','+a',newline='',encoding='UTF8') as f:\n",
    "        writer = csv.writer(f)\n",
    "        writer.writerow(data)\n",
    "    "
   ]
  },
  {
   "cell_type": "code",
   "execution_count": null,
   "id": "d1d3d186",
   "metadata": {},
   "outputs": [],
   "source": [
    "#Collecting data every 5 secs\n",
    "while(True):\n",
    "    check_rating()\n",
    "    time.sleep(5)"
   ]
  },
  {
   "cell_type": "code",
   "execution_count": 27,
   "id": "852744c9",
   "metadata": {},
   "outputs": [
    {
     "data": {
      "text/html": [
       "<div>\n",
       "<style scoped>\n",
       "    .dataframe tbody tr th:only-of-type {\n",
       "        vertical-align: middle;\n",
       "    }\n",
       "\n",
       "    .dataframe tbody tr th {\n",
       "        vertical-align: top;\n",
       "    }\n",
       "\n",
       "    .dataframe thead th {\n",
       "        text-align: right;\n",
       "    }\n",
       "</style>\n",
       "<table border=\"1\" class=\"dataframe\">\n",
       "  <thead>\n",
       "    <tr style=\"text-align: right;\">\n",
       "      <th></th>\n",
       "      <th>Title</th>\n",
       "      <th>Ratings</th>\n",
       "      <th>Date</th>\n",
       "    </tr>\n",
       "  </thead>\n",
       "  <tbody>\n",
       "    <tr>\n",
       "      <th>0</th>\n",
       "      <td>Alex Evenings Women's Long Fit and Flare Dress...</td>\n",
       "      <td>3.8</td>\n",
       "      <td>2024-06-28</td>\n",
       "    </tr>\n",
       "    <tr>\n",
       "      <th>1</th>\n",
       "      <td>Alex Evenings Women's Long Fit and Flare Dress...</td>\n",
       "      <td>3.8</td>\n",
       "      <td>2024-06-28</td>\n",
       "    </tr>\n",
       "    <tr>\n",
       "      <th>2</th>\n",
       "      <td>Alex Evenings Women's Long Fit and Flare Dress...</td>\n",
       "      <td>3.8</td>\n",
       "      <td>2024-06-28</td>\n",
       "    </tr>\n",
       "    <tr>\n",
       "      <th>3</th>\n",
       "      <td>Alex Evenings Women's Long Fit and Flare Dress...</td>\n",
       "      <td>3.8</td>\n",
       "      <td>2024-06-28</td>\n",
       "    </tr>\n",
       "    <tr>\n",
       "      <th>4</th>\n",
       "      <td>Alex Evenings Women's Long Fit and Flare Dress...</td>\n",
       "      <td>3.8</td>\n",
       "      <td>2024-06-28</td>\n",
       "    </tr>\n",
       "    <tr>\n",
       "      <th>5</th>\n",
       "      <td>Alex Evenings Women's Long Fit and Flare Dress...</td>\n",
       "      <td>3.8</td>\n",
       "      <td>2024-06-28</td>\n",
       "    </tr>\n",
       "  </tbody>\n",
       "</table>\n",
       "</div>"
      ],
      "text/plain": [
       "                                               Title  Ratings        Date\n",
       "0  Alex Evenings Women's Long Fit and Flare Dress...      3.8  2024-06-28\n",
       "1  Alex Evenings Women's Long Fit and Flare Dress...      3.8  2024-06-28\n",
       "2  Alex Evenings Women's Long Fit and Flare Dress...      3.8  2024-06-28\n",
       "3  Alex Evenings Women's Long Fit and Flare Dress...      3.8  2024-06-28\n",
       "4  Alex Evenings Women's Long Fit and Flare Dress...      3.8  2024-06-28\n",
       "5  Alex Evenings Women's Long Fit and Flare Dress...      3.8  2024-06-28"
      ]
     },
     "execution_count": 27,
     "metadata": {},
     "output_type": "execute_result"
    }
   ],
   "source": [
    "df = pd.read_csv(r'C:\\Users\\Sougu\\AmazonWebScraper.csv')\n",
    "df"
   ]
  },
  {
   "cell_type": "code",
   "execution_count": null,
   "id": "1a9b775c",
   "metadata": {},
   "outputs": [],
   "source": []
  },
  {
   "cell_type": "code",
   "execution_count": null,
   "id": "637cc77b",
   "metadata": {},
   "outputs": [],
   "source": []
  }
 ],
 "metadata": {
  "kernelspec": {
   "display_name": "Python 3 (ipykernel)",
   "language": "python",
   "name": "python3"
  },
  "language_info": {
   "codemirror_mode": {
    "name": "ipython",
    "version": 3
   },
   "file_extension": ".py",
   "mimetype": "text/x-python",
   "name": "python",
   "nbconvert_exporter": "python",
   "pygments_lexer": "ipython3",
   "version": "3.11.5"
  }
 },
 "nbformat": 4,
 "nbformat_minor": 5
}
